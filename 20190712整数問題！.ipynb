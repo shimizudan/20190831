{
 "cells": [
  {
   "cell_type": "markdown",
   "metadata": {},
   "source": [
    "# 整数問題\n",
    "\n",
    "\n",
    "## $p^r+q^r=r^{p+q-1}$を満たす素数を求めよ。\n",
    "\n",
    "\n",
    "youtuberのKoga Masakiさんの出題です。\n",
    "\n",
    "https://studytube.info/questions/4\n"
   ]
  },
  {
   "cell_type": "markdown",
   "metadata": {},
   "source": [
    "### ＜証明＞"
   ]
  },
  {
   "cell_type": "markdown",
   "metadata": {},
   "source": [
    "#### 1. 考察・予想\n",
    "\n",
    "まず，100個の素数のリストを用意します。"
   ]
  },
  {
   "cell_type": "code",
   "execution_count": 1,
   "metadata": {},
   "outputs": [
    {
     "data": {
      "text/html": [
       "<div><pre style=\"&#102;&#111;&#110;&#116;&#45;&#102;&#97;&#109;&#105;&#108;&#121;&#58;&#32;&#34;&#67;&#111;&#117;&#114;&#105;&#101;&#114;&#32;&#78;&#101;&#119;&#34;&#44;&#67;&#111;&#117;&#114;&#105;&#101;&#114;&#44;&#109;&#111;&#110;&#111;&#115;&#112;&#97;&#99;&#101;&#59;\">&#123;&#50;&#44;&#32;&#51;&#44;&#32;&#53;&#44;&#32;&#55;&#44;&#32;&#49;&#49;&#44;&#32;&#49;&#51;&#44;&#32;&#49;&#55;&#44;&#32;&#49;&#57;&#44;&#32;&#50;&#51;&#44;&#32;&#50;&#57;&#44;&#32;&#51;&#49;&#44;&#32;&#51;&#55;&#44;&#32;&#52;&#49;&#44;&#32;&#52;&#51;&#44;&#32;&#52;&#55;&#44;&#32;&#53;&#51;&#44;&#32;&#53;&#57;&#44;&#32;&#54;&#49;&#44;&#32;&#54;&#55;&#44;&#32;&#55;&#49;&#44;&#32;&#55;&#51;&#44;&#32;&#55;&#57;&#44;&#32;&#56;&#51;&#44;&#32;&#56;&#57;&#44;&#32;&#57;&#55;&#44;&#32;&#49;&#48;&#49;&#44;&#32;&#49;&#48;&#51;&#44;&#32;&#49;&#48;&#55;&#44;&#32;&#49;&#48;&#57;&#44;&#32;&#49;&#49;&#51;&#44;&#32;&#49;&#50;&#55;&#44;&#32;&#49;&#51;&#49;&#44;&#32;&#49;&#51;&#55;&#44;&#32;&#49;&#51;&#57;&#44;&#32;&#49;&#52;&#57;&#44;&#32;&#49;&#53;&#49;&#44;&#32;&#49;&#53;&#55;&#44;&#32;&#49;&#54;&#51;&#44;&#32;&#49;&#54;&#55;&#44;&#32;&#49;&#55;&#51;&#44;&#32;&#49;&#55;&#57;&#44;&#32;&#49;&#56;&#49;&#44;&#32;&#49;&#57;&#49;&#44;&#32;&#49;&#57;&#51;&#44;&#32;&#49;&#57;&#55;&#44;&#32;&#49;&#57;&#57;&#44;&#32;&#50;&#49;&#49;&#44;&#32;&#50;&#50;&#51;&#44;&#32;&#50;&#50;&#55;&#44;&#32;&#50;&#50;&#57;&#44;&#32;&#50;&#51;&#51;&#44;&#32;&#50;&#51;&#57;&#44;&#32;&#50;&#52;&#49;&#44;&#32;&#50;&#53;&#49;&#44;&#32;&#50;&#53;&#55;&#44;&#32;&#50;&#54;&#51;&#44;&#32;&#50;&#54;&#57;&#44;&#32;&#50;&#55;&#49;&#44;&#32;&#50;&#55;&#55;&#44;&#32;&#50;&#56;&#49;&#44;&#32;&#50;&#56;&#51;&#44;&#32;&#50;&#57;&#51;&#44;&#32;&#51;&#48;&#55;&#44;&#32;&#51;&#49;&#49;&#44;&#32;&#51;&#49;&#51;&#44;&#32;&#51;&#49;&#55;&#44;&#32;&#51;&#51;&#49;&#44;&#32;&#51;&#51;&#55;&#44;&#32;&#51;&#52;&#55;&#44;&#32;&#51;&#52;&#57;&#44;&#32;&#51;&#53;&#51;&#44;&#32;&#51;&#53;&#57;&#44;&#32;&#51;&#54;&#55;&#44;&#32;&#51;&#55;&#51;&#44;&#32;&#51;&#55;&#57;&#44;&#32;&#51;&#56;&#51;&#44;&#32;&#51;&#56;&#57;&#44;&#32;&#51;&#57;&#55;&#44;&#32;&#52;&#48;&#49;&#44;&#32;&#52;&#48;&#57;&#44;&#32;&#52;&#49;&#57;&#44;&#32;&#52;&#50;&#49;&#44;&#32;&#52;&#51;&#49;&#44;&#32;&#52;&#51;&#51;&#44;&#32;&#52;&#51;&#57;&#44;&#32;&#52;&#52;&#51;&#44;&#32;&#52;&#52;&#57;&#44;&#32;&#52;&#53;&#55;&#44;&#32;&#52;&#54;&#49;&#44;&#32;&#52;&#54;&#51;&#44;&#32;&#52;&#54;&#55;&#44;&#32;&#52;&#55;&#57;&#44;&#32;&#52;&#56;&#55;&#44;&#32;&#52;&#57;&#49;&#44;&#32;&#52;&#57;&#57;&#44;&#32;&#53;&#48;&#51;&#44;&#32;&#53;&#48;&#57;&#44;&#32;&#53;&#50;&#49;&#44;&#32;&#53;&#50;&#51;&#44;&#32;&#53;&#52;&#49;&#125;</pre></div>"
      ]
     },
     "execution_count": 1,
     "metadata": {
      "text/html": []
     },
     "output_type": "execute_result"
    }
   ],
   "source": [
    "a=Table[Prime[n], {n, 100}]"
   ]
  },
  {
   "cell_type": "markdown",
   "metadata": {},
   "source": [
    "次に$p$と$q$と$r$を樹形図的に組み合わせて，$100^3$通りの場合で成り立つかどうかチェックしてみます。"
   ]
  },
  {
   "cell_type": "code",
   "execution_count": 2,
   "metadata": {},
   "outputs": [
    {
     "name": "stdout",
     "output_type": "stream",
     "text": [
      "222\n"
     ]
    }
   ],
   "source": [
    "Do[If[p^r+q^r-r^(p+q-1)===0,Print[p,q,r]],{p,a},{q,a},{r,a}]"
   ]
  },
  {
   "cell_type": "markdown",
   "metadata": {},
   "source": [
    "$p=q=r=2$の時に成立し，その他は無さそうなので，この方針で証明を考えてみます。"
   ]
  },
  {
   "cell_type": "markdown",
   "metadata": {},
   "source": [
    "#### 2. 両辺の偶奇を考える！\n",
    "\n",
    "偶数の素数を２しかないことに注意して，$p^r+q^r=r^{p+q-1}\\cdots\\bigstar$の両辺の偶奇を考えます。\n",
    "\n",
    "(i) $(p,\\,q,\\,r)=(2,\\,2,\\,2)$のときは，\n",
    "\n",
    "    $p=q=r=2$で，$\\text{左辺}=2^2+2^2=8$，$\\text{右辺}=2^{2+2-1}=8$となり$\\bigstar$は成立。\n",
    "    \n",
    "\n",
    "(ii) $(p,\\,q,\\,r)=(\\text{奇数},\\,\\text{奇数},\\,\\text{奇数})$のときは，\n",
    "\n",
    "    左辺が偶数，右辺が奇数で矛盾。\n",
    "    \n",
    "\n",
    "(iii)  $(p,\\,q,\\,r)=(2,\\,2,\\,\\text{奇数})$のときは，\n",
    "\n",
    "    左辺が偶数，右辺が奇数で矛盾。\n",
    " \n",
    " \n",
    "(iv)  $(p,\\,q,\\,r)=(2,\\,\\text{奇数},\\,2)$のときは，\n",
    "\n",
    "    左辺が奇数，右辺が偶数で矛盾。\n",
    "    \n",
    "\n",
    "(v)  $(p,\\,q,\\,r)=(\\text{奇数},\\,2,\\,2)$のときは，\n",
    "\n",
    "    左辺が奇数，右辺が偶数で矛盾。\n",
    " \n",
    "\n",
    "(vi) $(p,\\,q,\\,r)=(\\text{奇数},\\,\\text{奇数},\\,2)$のときは，\n",
    "\n",
    "    両辺とも偶数で矛盾しない。\n",
    "\n",
    "\n",
    "(vii) $(p,\\,q,\\,r)=(2,\\,\\text{奇数},\\,\\text{奇数})$のときは，\n",
    "\n",
    "    両辺とも奇数で矛盾しない。\n",
    "\n",
    "\n",
    "(viii) $(p,\\,q,\\,r)=(\\text{奇数},\\,2,\\,\\text{奇数})$のときは，\n",
    "\n",
    "    両辺とも奇数で矛盾しない。\n",
    "    \n",
    "\n",
    "    \n",
    "    \n",
    "(vi)(vii)(viii)を別の方法で検討する。\n"
   ]
  },
  {
   "cell_type": "markdown",
   "metadata": {},
   "source": [
    "#### 3. 両辺を4で割ったときのあまりを考える。\n",
    "\n",
    "(vi) $(p,\\,q,\\,r)=(\\text{奇数},\\,\\text{奇数},\\,2)$のとき，$\\bigstar$は\n",
    "\n",
    "$p^2+q^2=2^{p+q-1}$\n",
    "    \n",
    "\n",
    "となります。$\\mod 4$とすると，$p$，$q$は奇数なので，\n",
    "\n",
    "$p\\equiv\\pm1$，$q\\equiv\\pm1$\n",
    "\n",
    "よって，\n",
    "\n",
    "$\\text{左辺}\\equiv(\\pm1)^2+(\\pm1)^2=1+1=2$\n",
    " \n",
    "\n",
    "また，$p\\geqq3$，$q\\geqq3$なので，$p+q-1\\geqq5$となり，\n",
    "\n",
    "$\\text{右辺}=2^{p+q-1}\\equiv0$\n",
    "\n",
    "\n",
    "両辺の4で割った余りが一致しないので矛盾。\n",
    "\n",
    "\n",
    "(vii) $(p,\\,q,\\,r)=(2,\\,\\text{奇数},\\,\\text{奇数})$のとき，$\\bigstar$は\n",
    "\n",
    "$2^r+q^r=r^{q+1}$\n",
    "    \n",
    "$\\text{左辺}\\equiv\\pm1$，$\\text{右辺}\\equiv1$となり矛盾しない。\n",
    "    \n",
    "\n",
    "\n",
    "(viii) $(p,\\,q,\\,r)=(\\text{奇数},\\,2,\\,\\text{奇数})$のとき，$\\bigstar$は\n",
    "\n",
    "$p^r+2^r=r^{p+1}$\n",
    "    \n",
    "$\\text{左辺}\\equiv\\pm1$，$\\text{右辺}\\equiv1$となり矛盾しない。\n",
    "\n",
    "\n",
    "\n",
    "あとは(vii)(viii)のケースである。$\\bigstar$は$p$と$q$についての対称式なので，(vii)と(viii)のどちらかが示せればよい。\n",
    "\n",
    "(vii)を示すことにする。両辺の大小の比較をしてみる。"
   ]
  },
  {
   "cell_type": "markdown",
   "metadata": {},
   "source": [
    "まず，$p$と$q$に，3から71までの素数を代入してみて（$19^2$通り）大小を調べてみる。"
   ]
  },
  {
   "cell_type": "code",
   "execution_count": 3,
   "metadata": {},
   "outputs": [
    {
     "data": {
      "text/html": [
       "<div><pre style=\"&#102;&#111;&#110;&#116;&#45;&#102;&#97;&#109;&#105;&#108;&#121;&#58;&#32;&#34;&#67;&#111;&#117;&#114;&#105;&#101;&#114;&#32;&#78;&#101;&#119;&#34;&#44;&#67;&#111;&#117;&#114;&#105;&#101;&#114;&#44;&#109;&#111;&#110;&#111;&#115;&#112;&#97;&#99;&#101;&#59;\">&#123;&#51;&#44;&#32;&#53;&#44;&#32;&#55;&#44;&#32;&#49;&#49;&#44;&#32;&#49;&#51;&#44;&#32;&#49;&#55;&#44;&#32;&#49;&#57;&#44;&#32;&#50;&#51;&#44;&#32;&#50;&#57;&#44;&#32;&#51;&#49;&#44;&#32;&#51;&#55;&#44;&#32;&#52;&#49;&#44;&#32;&#52;&#51;&#44;&#32;&#52;&#55;&#44;&#32;&#53;&#51;&#44;&#32;&#53;&#57;&#44;&#32;&#54;&#49;&#44;&#32;&#54;&#55;&#44;&#32;&#55;&#49;&#125;</pre></div>"
      ]
     },
     "execution_count": 3,
     "metadata": {
      "text/html": []
     },
     "output_type": "execute_result"
    }
   ],
   "source": [
    "a=Table[Prime[n], {n, 2,20}]"
   ]
  },
  {
   "cell_type": "code",
   "execution_count": 4,
   "metadata": {},
   "outputs": [
    {
     "name": "stdout",
     "output_type": "stream",
     "text": [
      "{3, 3}\n",
      "{3, 5}\n",
      "{3, 7}\n",
      "{5, 3}\n",
      "{5, 5}\n",
      "{5, 7}\n",
      "{7, 3}\n",
      "{7, 5}\n",
      "{7, 7}\n",
      "{11, 3}\n",
      "{11, 5}\n",
      "{11, 7}\n",
      "{11, 11}\n",
      "{13, 3}\n",
      "{13, 5}\n",
      "{13, 7}\n",
      "{13, 11}\n",
      "{13, 13}\n",
      "{17, 3}\n",
      "{17, 5}\n",
      "{17, 7}\n",
      "{17, 11}\n",
      "{17, 13}\n",
      "{17, 17}\n",
      "{19, 3}\n",
      "{19, 5}\n",
      "{19, 7}\n",
      "{19, 11}\n",
      "{19, 13}\n",
      "{19, 17}\n",
      "{19, 19}\n",
      "{23, 3}\n",
      "{23, 5}\n",
      "{23, 7}\n",
      "{23, 11}\n",
      "{23, 13}\n",
      "{23, 17}\n",
      "{23, 19}\n",
      "{23, 23}\n",
      "{29, 3}\n",
      "{29, 5}\n",
      "{29, 7}\n",
      "{29, 11}\n",
      "{29, 13}\n",
      "{29, 17}\n",
      "{29, 19}\n",
      "{29, 23}\n",
      "{29, 29}\n",
      "{31, 3}\n",
      "{31, 5}\n",
      "{31, 7}\n",
      "{31, 11}\n",
      "{31, 13}\n",
      "{31, 17}\n",
      "{31, 19}\n",
      "{31, 23}\n",
      "{31, 29}\n",
      "{31, 31}\n",
      "{37, 3}\n",
      "{37, 5}\n",
      "{37, 7}\n",
      "{37, 11}\n",
      "{37, 13}\n",
      "{37, 17}\n",
      "{37, 19}\n",
      "{37, 23}\n",
      "{37, 29}\n",
      "{37, 31}\n",
      "{37, 37}\n",
      "{41, 3}\n",
      "{41, 5}\n",
      "{41, 7}\n",
      "{41, 11}\n",
      "{41, 13}\n",
      "{41, 17}\n",
      "{41, 19}\n",
      "{41, 23}\n",
      "{41, 29}\n",
      "{41, 31}\n",
      "{41, 37}\n",
      "{41, 41}\n",
      "{43, 3}\n",
      "{43, 5}\n",
      "{43, 7}\n",
      "{43, 11}\n",
      "{43, 13}\n",
      "{43, 17}\n",
      "{43, 19}\n",
      "{43, 23}\n",
      "{43, 29}\n",
      "{43, 31}\n",
      "{43, 37}\n",
      "{43, 41}\n",
      "{43, 43}\n",
      "{47, 3}\n",
      "{47, 5}\n",
      "{47, 7}\n",
      "{47, 11}\n",
      "{47, 13}\n",
      "{47, 17}\n",
      "{47, 19}\n",
      "{47, 23}\n",
      "{47, 29}\n",
      "{47, 31}\n",
      "{47, 37}\n",
      "{47, 41}\n",
      "{47, 43}\n",
      "{47, 47}\n",
      "{53, 3}\n",
      "{53, 5}\n",
      "{53, 7}\n",
      "{53, 11}\n",
      "{53, 13}\n",
      "{53, 17}\n",
      "{53, 19}\n",
      "{53, 23}\n",
      "{53, 29}\n",
      "{53, 31}\n",
      "{53, 37}\n",
      "{53, 41}\n",
      "{53, 43}\n",
      "{53, 47}\n",
      "{53, 53}\n",
      "{59, 3}\n",
      "{59, 5}\n",
      "{59, 7}\n",
      "{59, 11}\n",
      "{59, 13}\n",
      "{59, 17}\n",
      "{59, 19}\n",
      "{59, 23}\n",
      "{59, 29}\n",
      "{59, 31}\n",
      "{59, 37}\n",
      "{59, 41}\n",
      "{59, 43}\n",
      "{59, 47}\n",
      "{59, 53}\n",
      "{59, 59}\n",
      "{61, 3}\n",
      "{61, 5}\n",
      "{61, 7}\n",
      "{61, 11}\n",
      "{61, 13}\n",
      "{61, 17}\n",
      "{61, 19}\n",
      "{61, 23}\n",
      "{61, 29}\n",
      "{61, 31}\n",
      "{61, 37}\n",
      "{61, 41}\n",
      "{61, 43}\n",
      "{61, 47}\n",
      "{61, 53}\n",
      "{61, 59}\n",
      "{61, 61}\n",
      "{67, 3}\n",
      "{67, 5}\n",
      "{67, 7}\n",
      "{67, 11}\n",
      "{67, 13}\n",
      "{67, 17}\n",
      "{67, 19}\n",
      "{67, 23}\n",
      "{67, 29}\n",
      "{67, 31}\n",
      "{67, 37}\n",
      "{67, 41}\n",
      "{67, 43}\n",
      "{67, 47}\n",
      "{67, 53}\n",
      "{67, 59}\n",
      "{67, 61}\n",
      "{67, 67}\n",
      "{71, 3}\n",
      "{71, 5}\n",
      "{71, 7}\n",
      "{71, 11}\n",
      "{71, 13}\n",
      "{71, 17}\n",
      "{71, 19}\n",
      "{71, 23}\n",
      "{71, 29}\n",
      "{71, 31}\n",
      "{71, 37}\n",
      "{71, 41}\n",
      "{71, 43}\n",
      "{71, 47}\n",
      "{71, 53}\n",
      "{71, 59}\n",
      "{71, 61}\n",
      "{71, 67}\n",
      "{71, 71}\n"
     ]
    }
   ],
   "source": [
    "Do[If[2^r+q^r-r^(2+q-1)<0,Print[{q,r}]],{q,a},{r,a}]"
   ]
  },
  {
   "cell_type": "code",
   "execution_count": 5,
   "metadata": {},
   "outputs": [
    {
     "name": "stdout",
     "output_type": "stream",
     "text": [
      "{3, 11}\n",
      "{3, 13}\n",
      "{3, 17}\n",
      "{3, 19}\n",
      "{3, 23}\n",
      "{3, 29}\n",
      "{3, 31}\n",
      "{3, 37}\n",
      "{3, 41}\n",
      "{3, 43}\n",
      "{3, 47}\n",
      "{3, 53}\n",
      "{3, 59}\n",
      "{3, 61}\n",
      "{3, 67}\n",
      "{3, 71}\n",
      "{5, 11}\n",
      "{5, 13}\n",
      "{5, 17}\n",
      "{5, 19}\n",
      "{5, 23}\n",
      "{5, 29}\n",
      "{5, 31}\n",
      "{5, 37}\n",
      "{5, 41}\n",
      "{5, 43}\n",
      "{5, 47}\n",
      "{5, 53}\n",
      "{5, 59}\n",
      "{5, 61}\n",
      "{5, 67}\n",
      "{5, 71}\n",
      "{7, 11}\n",
      "{7, 13}\n",
      "{7, 17}\n",
      "{7, 19}\n",
      "{7, 23}\n",
      "{7, 29}\n",
      "{7, 31}\n",
      "{7, 37}\n",
      "{7, 41}\n",
      "{7, 43}\n",
      "{7, 47}\n",
      "{7, 53}\n",
      "{7, 59}\n",
      "{7, 61}\n",
      "{7, 67}\n",
      "{7, 71}\n",
      "{11, 13}\n",
      "{11, 17}\n",
      "{11, 19}\n",
      "{11, 23}\n",
      "{11, 29}\n",
      "{11, 31}\n",
      "{11, 37}\n",
      "{11, 41}\n",
      "{11, 43}\n",
      "{11, 47}\n",
      "{11, 53}\n",
      "{11, 59}\n",
      "{11, 61}\n",
      "{11, 67}\n",
      "{11, 71}\n",
      "{13, 17}\n",
      "{13, 19}\n",
      "{13, 23}\n",
      "{13, 29}\n",
      "{13, 31}\n",
      "{13, 37}\n",
      "{13, 41}\n",
      "{13, 43}\n",
      "{13, 47}\n",
      "{13, 53}\n",
      "{13, 59}\n",
      "{13, 61}\n",
      "{13, 67}\n",
      "{13, 71}\n",
      "{17, 19}\n",
      "{17, 23}\n",
      "{17, 29}\n",
      "{17, 31}\n",
      "{17, 37}\n",
      "{17, 41}\n",
      "{17, 43}\n",
      "{17, 47}\n",
      "{17, 53}\n",
      "{17, 59}\n",
      "{17, 61}\n",
      "{17, 67}\n",
      "{17, 71}\n",
      "{19, 23}\n",
      "{19, 29}\n",
      "{19, 31}\n",
      "{19, 37}\n",
      "{19, 41}\n",
      "{19, 43}\n",
      "{19, 47}\n",
      "{19, 53}\n",
      "{19, 59}\n",
      "{19, 61}\n",
      "{19, 67}\n",
      "{19, 71}\n",
      "{23, 29}\n",
      "{23, 31}\n",
      "{23, 37}\n",
      "{23, 41}\n",
      "{23, 43}\n",
      "{23, 47}\n",
      "{23, 53}\n",
      "{23, 59}\n",
      "{23, 61}\n",
      "{23, 67}\n",
      "{23, 71}\n",
      "{29, 31}\n",
      "{29, 37}\n",
      "{29, 41}\n",
      "{29, 43}\n",
      "{29, 47}\n",
      "{29, 53}\n",
      "{29, 59}\n",
      "{29, 61}\n",
      "{29, 67}\n",
      "{29, 71}\n",
      "{31, 37}\n",
      "{31, 41}\n",
      "{31, 43}\n",
      "{31, 47}\n",
      "{31, 53}\n",
      "{31, 59}\n",
      "{31, 61}\n",
      "{31, 67}\n",
      "{31, 71}\n",
      "{37, 41}\n",
      "{37, 43}\n",
      "{37, 47}\n",
      "{37, 53}\n",
      "{37, 59}\n",
      "{37, 61}\n",
      "{37, 67}\n",
      "{37, 71}\n",
      "{41, 43}\n",
      "{41, 47}\n",
      "{41, 53}\n",
      "{41, 59}\n",
      "{41, 61}\n",
      "{41, 67}\n",
      "{41, 71}\n",
      "{43, 47}\n",
      "{43, 53}\n",
      "{43, 59}\n",
      "{43, 61}\n",
      "{43, 67}\n",
      "{43, 71}\n",
      "{47, 53}\n",
      "{47, 59}\n",
      "{47, 61}\n",
      "{47, 67}\n",
      "{47, 71}\n",
      "{53, 59}\n",
      "{53, 61}\n",
      "{53, 67}\n",
      "{53, 71}\n",
      "{59, 61}\n",
      "{59, 67}\n",
      "{59, 71}\n",
      "{61, 67}\n",
      "{61, 71}\n",
      "{67, 71}\n"
     ]
    }
   ],
   "source": [
    "Do[If[2^r+q^r-r^(2+q-1)>0,Print[{q,r}]],{q,a},{r,a}]"
   ]
  },
  {
   "cell_type": "markdown",
   "metadata": {},
   "source": [
    "まず，眺めて気づいたこと。\n",
    "\n",
    "- 左辺が小さいケースは，$q$の値に対して，$r$は$r\\leqq q$であるような数である。\n",
    "\n",
    "\n",
    "- 左辺が大きいケースは，$q$の値に対して，$r$は$r>q$であるよような数である。\n",
    "\n",
    "\n",
    "そこで，\n",
    "\n",
    "- $r\\leqq q$ならば，$2^r+q^r<r^{q+1}$\n",
    "\n",
    "\n",
    "- $r>q$ならば，$2^r+q^r>r^{q+1}$\n",
    "\n",
    "\n",
    "が示せるのではないかと予想できる。\n",
    "\n",
    "\n"
   ]
  },
  {
   "cell_type": "markdown",
   "metadata": {},
   "source": [
    "#### 4. 両辺の大小を考える。\n",
    "\n",
    "\n",
    "(vii) $(p,\\,q,\\,r)=(2,\\,\\text{奇数},\\,\\text{奇数})$のとき，$\\bigstar$は\n",
    "\n",
    "$2^r+q^r=r^{q+1}$\n",
    "\n",
    "\n",
    "- $r\\leqq q$のとき\n",
    "\n",
    "$q\\geqq 3$なので，\n",
    "\n",
    "$(q-1)q^r>2^r\\cdots\\heartsuit$が成り立つ。よって，\n",
    "\n",
    "$\\begin{aligned}[t]\n",
    "r^{q+1}-(2^r+q^r)&>r^{q+1}-\\{(q-1)q^r+q^r\\}\\quad(\\because \\heartsuit)\\\\\n",
    "&=r^{q+1}-q^{r+1}=\\spadesuit\n",
    "\\end{aligned}$\n",
    "\n",
    "\n",
    "ここで，$f(x)=\\frac{\\log x}{x+1}$を考える。\n",
    "\n",
    "\n",
    "\n",
    "\n",
    "    "
   ]
  },
  {
   "cell_type": "code",
   "execution_count": 6,
   "metadata": {},
   "outputs": [
    {
     "data": {
      "text/html": [
       "<div><img alt=\"Output\" src=\"data:image/png;base64,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\"></div>"
      ]
     },
     "execution_count": 6,
     "metadata": {
      "text/html": []
     },
     "output_type": "execute_result"
    }
   ],
   "source": [
    "D[Log[x]/(x+1),x]"
   ]
  },
  {
   "cell_type": "markdown",
   "metadata": {},
   "source": [
    "$f'(x)={(1+x)-x\\log x \\over x(1+x)^2}$\n",
    "\n",
    "$g(x)=(1+x)-x\\log x$とおいて，"
   ]
  },
  {
   "cell_type": "code",
   "execution_count": 8,
   "metadata": {},
   "outputs": [
    {
     "data": {
      "text/html": [
       "<div><img alt=\"Output\" src=\"data:image/png;base64,iVBORw0KGgoAAAANSUhEUgAAADgAAAARCAIAAAAHR/i3AAAAhXpUWHRSYXcgcHJvZmlsZSB0eXBlIGV4aWYAAHjaVYvBDcMwDAP/mqIjyLJM2uMYiQNkg45fuu0n9yApgbT1vi97felp2dgxABc5csRU6P6juNciDXn+X9MfZGWgoRhTluEkhnJXkqKFN+LCAahYcIbnIV8gNQN3o86928QyPusLVffpbh/5eCey76LuBgAAAAlwSFlzAAALEwAACxMBAJqcGAAAADx0RVh0U29mdHdhcmUAQ3JlYXRlZCB3aXRoIHRoZSBXb2xmcmFtIExhbmd1YWdlIDogd3d3LndvbGZyYW0uY29tXKKmhQAAACF0RVh0Q3JlYXRpb24gVGltZQAyMDE5OjA3OjEzIDA4OjUwOjI362krcgAAAxBJREFUSIntlj1I61AUx2/SGpX4iVhspURqCxLIIIo4qIuIVBwEpYtTHcxScSpi0SVDQXDpIFhEEActfiBa6iSCGDGDmOKgUINttFUJhOikFNr7hr4XQt8zkT7hIbz/lPu/55z8bnJybxAIIfgOQv81wGf1H/SrZQC6u7vb0tLyJXd6eHhgWZbn+c8EsyzLsqyiKKpjAJrP5/P5/F8B/tLa2hrHcU9PT4aREEJRFCORyPn5uWqW+Oo5juvu7sZxnKKoaDSq+qFQyGazVVVVkSRJkqTX69VmjYyMDA0NqTRut3thYaEw9Pl809PThWsEQcbHx3t7e4vxdbS1tWW324vMx8fHmpoan893dXUVDAZNJhPP8xBCjuPKy8tPTk6SyaTD4ZidnU0kEmoWwzC3t7faOkdHRxiG8Tx/eHhYXV2dSqW0s5FIJBaLqUNzCY9zY2PDYrGEQiEURSmKOj4+XllZWVpaisfjTqezr68PADAwMCDLssvl0qnT399P07TX6319fV1cXCQIQifYDADgef7l5UW17Ha70+nUyREEgaIoFP3ZNu3t7fF4HADQ0dFxfX29v79PEEQ0Gg0EAoZrnp+ft1qtra2tk5OT+pFmAMDz87MkSaqF47h+jtVq1X686XTaZrMBABwOR1NTk9/vf3t783g8NE0bgs7NzRWWt7OzMzY2phdq2KPNzc2yRrlc7vLy0mQybW5uQghPT08xDNvb24MQrq+vt7W1vb+//7HU7z16cHCA47ggCOFwuK6uThRFnR41AN3e3i5aWDqdhhCurq7W1tZWVlZWVFQwDFMITiaTGIaZzeb6+vrGxsbOzs6Li4uPQGVZtlgsy8vLhaHH4+np6SkdVEe5XC6VSmWzWdWhaXpqakqSpEwmc3NzMzw8PDo6+hGooYpASz9CURQlCKKsrEx1EAS5v79XFKWhoUFRFEEQurq6tCl3d3eiKH6meCKRyGQyWqeU7ekjMQwzMzPjdruz2azL5fL7/RMTE+rs4ODg2dmZJEn62xAAAEIYi8UQBCFJUjUR+E3+R38ANRvVlw7/PKAAAAAASUVORK5CYII=\"></div>"
      ]
     },
     "execution_count": 8,
     "metadata": {
      "text/html": []
     },
     "output_type": "execute_result"
    }
   ],
   "source": [
    "D[(1+x)-x Log[x],x]"
   ]
  },
  {
   "cell_type": "markdown",
   "metadata": {},
   "source": [
    "$g'(x)=-\\log x$，\n",
    "\n",
    "$x\\geqq1$で$g(x)$は単調減少\n",
    "$g(1)=2$，$g(2)>0$，$g(3)>0$，$g(4)<0$，$\\lim_{x\\to\\infty}g(x)=-\\infty$\n"
   ]
  },
  {
   "cell_type": "code",
   "execution_count": 10,
   "metadata": {},
   "outputs": [
    {
     "data": {
      "text/html": [
       "<div><pre style=\"&#102;&#111;&#110;&#116;&#45;&#102;&#97;&#109;&#105;&#108;&#121;&#58;&#32;&#34;&#67;&#111;&#117;&#114;&#105;&#101;&#114;&#32;&#78;&#101;&#119;&#34;&#44;&#67;&#111;&#117;&#114;&#105;&#101;&#114;&#44;&#109;&#111;&#110;&#111;&#115;&#112;&#97;&#99;&#101;&#59;\">&#123;&#50;&#46;&#44;&#32;&#49;&#46;&#54;&#49;&#51;&#55;&#49;&#44;&#32;&#48;&#46;&#55;&#48;&#52;&#49;&#54;&#51;&#44;&#32;&#45;&#48;&#46;&#53;&#52;&#53;&#49;&#55;&#55;&#44;&#32;&#45;&#50;&#46;&#48;&#52;&#55;&#49;&#57;&#44;&#32;&#45;&#51;&#46;&#55;&#53;&#48;&#53;&#54;&#44;&#32;&#45;&#53;&#46;&#54;&#50;&#49;&#51;&#55;&#44;&#32;&#45;&#55;&#46;&#54;&#51;&#53;&#53;&#51;&#44;&#32;&#45;&#57;&#46;&#55;&#55;&#53;&#48;&#50;&#44;&#32;&#45;&#49;&#50;&#46;&#48;&#50;&#53;&#57;&#125;</pre></div>"
      ]
     },
     "execution_count": 10,
     "metadata": {
      "text/html": []
     },
     "output_type": "execute_result"
    }
   ],
   "source": [
    "Table[N[1+x-x Log[x]],{x,1,10}]"
   ]
  },
  {
   "cell_type": "code",
   "execution_count": 11,
   "metadata": {},
   "outputs": [
    {
     "data": {
      "text/html": [
       "<div><img alt=\"Output\" src=\"data:image/png;base64,iVBORw0KGgoAAAANSUhEUgAAABIAAAARCAIAAABfOGuuAAAAhXpUWHRSYXcgcHJvZmlsZSB0eXBlIGV4aWYAAHjaVYvBDcMwDAP/mqIjyLJM2uMYiQNkg45fuu0n9yApgbT1vi97felp2dgxABc5csRU6P6juNciDXn+X9MfZGWgoRhTluEkhnJXkqKFN+LCAahYcIbnIV8gNQN3o86928QyPusLVffpbh/5eCey76LuBgAAAAlwSFlzAAALEwAACxMBAJqcGAAAADx0RVh0U29mdHdhcmUAQ3JlYXRlZCB3aXRoIHRoZSBXb2xmcmFtIExhbmd1YWdlIDogd3d3LndvbGZyYW0uY29tXKKmhQAAACF0RVh0Q3JlYXRpb24gVGltZQAyMDE5OjA3OjEzIDA5OjAyOjQzfsAEogAAAOBJREFUKJHtkj2KhTAUha/DI/izBLF44AqsbbVIqe7Cbdi6B6tga2UhFq7ALlmACMEgWCkkxZ1i4FWDw7xqivmqU9yPU5xrISL8no83nH/tPU0IobUGAGMM5/xnTSlVFAVjLE3TpmmSJGnbNs/zdV0tRJzn+TiO13UQBGEYAkBVVZTSKIr2fX8+n0II3/c554yxBwBIKbdte2me532F8zxd1wUAQgghxLZtAHAc57ou6+a5lmUpy5JS2nVdHMfTNGVZ1vd9XdeAtxhjxnGUUiKiUmoYBq01It613fDX5v6WT7wKh0CbHf0SAAAAAElFTkSuQmCC\"></div>"
      ]
     },
     "execution_count": 11,
     "metadata": {
      "text/html": []
     },
     "output_type": "execute_result"
    }
   ],
   "source": [
    "Limit[1+x-x Log[x],x->Infinity]"
   ]
  },
  {
   "cell_type": "markdown",
   "metadata": {},
   "source": [
    "よって，$x\\geqq4$でf'(x)<0$となり，$f(x)$は単調減少。\n",
    "\n",
    "今回は$x$の値は3以上の素数のなので，$x=3$と$x=5$のときを調べておく。\n",
    "\n"
   ]
  },
  {
   "cell_type": "code",
   "execution_count": 24,
   "metadata": {},
   "outputs": [
    {
     "data": {
      "text/html": [
       "<div><img alt=\"Output\" src=\"data:image/png;base64,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\"></div>"
      ]
     },
     "execution_count": 24,
     "metadata": {
      "text/html": []
     },
     "output_type": "execute_result"
    }
   ],
   "source": [
    "p1=Plot[{Log[x]/(x+1),Log[3]/4,Log[5]/6},{x,0,10}]"
   ]
  },
  {
   "cell_type": "code",
   "execution_count": 25,
   "metadata": {},
   "outputs": [
    {
     "data": {
      "text/html": [
       "<div><img alt=\"Output\" src=\"data:image/png;base64,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\"></div>"
      ]
     },
     "execution_count": 25,
     "metadata": {
      "text/html": []
     },
     "output_type": "execute_result"
    }
   ],
   "source": [
    "p2=ListPlot[Table[{x,Log[x]/(x+1)},{x,1,10}]]"
   ]
  },
  {
   "cell_type": "code",
   "execution_count": 26,
   "metadata": {},
   "outputs": [
    {
     "data": {
      "text/html": [
       "<div><img alt=\"Output\" src=\"data:image/png;base64,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\"></div>"
      ]
     },
     "execution_count": 26,
     "metadata": {
      "text/html": []
     },
     "output_type": "execute_result"
    }
   ],
   "source": [
    "Show[p1,p2]"
   ]
  },
  {
   "cell_type": "markdown",
   "metadata": {},
   "source": [
    "$f(3)>f(5)$である。\n",
    "\n",
    "よって，$x$の定義を$3$以上の素数とすると，$f(x)$は単調減少となり，\n",
    "\n",
    "$r\\leqq q$とすると，$f(r)\\geqq f(q)$\n",
    "\n",
    "$\\frac{\\log r}{r+1}\\geqq \\frac{\\log q}{q+1}$\n",
    "\n",
    "\n",
    "$(q+1)\\log r\\geqq(r+1)\\log q$\n",
    "\n",
    "\n",
    "$r^{q+1}\\geqq q^{r+1}$\n",
    "\n",
    "\n",
    "$\\spadesuit=r^{q+1}-q^{r+1}\\geqq 0$\n",
    "\n",
    "\n",
    "\n",
    "$\\therefore 2^r+q^r<r^{q+1}$\n",
    "\n",
    "\n",
    "- $r>q$のとき\n",
    "\n",
    "\n",
    "$r^{q+1}< q^{r+1}$\n",
    "\n",
    "$2^r+q^r>q^{r+1}$\n",
    "\n",
    "$\\begin{aligned}[t]\n",
    "2^r+q^r-r^{q+1}&>q^r+2^q-q^{r+1}\\quad(\\because r>q)\\\\\n",
    "&=q^r-(q^{r+1}-2^q)\\\\\n",
    "&=q^r-(r^{q+1}-2^r)\\\\\n",
    "&\n",
    "2^r+q^r-q^{r+1}+q^{r+1}-r^{q+1}\\\\\n",
    "&2^r-r^{q+1}\\\\\n",
    "&\n",
    "2^q+q^q\\\\\n",
    "&=(r-1)r^r-2^r\\\\\n",
    "&>0\\quad(\\because r\\geqq3)\n",
    "\\end{aligned}$\n",
    "\n",
    "$\\therefore 2^r+q^r<r^{q+1}$\n",
    "\n",
    "\n",
    "$q\\geqq 3$なので，\n",
    "\n",
    "$(q-1)q^r>2^r\\cdots\\heartsuit$が成り立つ。よって，\n",
    "\n",
    "$\\begin{aligned}[t]\n",
    "r^{q+1}-(2^r+q^r)&>r^{q+1}-\\{(q-1)q^r+q^r\\}\\quad(\\because \\heartsuit)\\\\\n",
    "&=r^{q+1}-q^{r+1}=\\spadesuit\n",
    "\\end{aligned}$\n",
    "\n",
    "\n",
    "ならば，$2^r+q^r>r^{q+1}$"
   ]
  },
  {
   "cell_type": "code",
   "execution_count": null,
   "metadata": {},
   "outputs": [],
   "source": []
  },
  {
   "cell_type": "code",
   "execution_count": null,
   "metadata": {},
   "outputs": [],
   "source": []
  }
 ],
 "metadata": {
  "kernelspec": {
   "display_name": "Wolfram Language 12",
   "language": "Wolfram Language",
   "name": "wolframlanguage12"
  },
  "language_info": {
   "codemirror_mode": "Mathematica",
   "file_extension": ".m",
   "mimetype": "application/vnd.wolfram.m",
   "name": "Wolfram Language",
   "pygments_lexer": "python",
   "version": "12.0"
  }
 },
 "nbformat": 4,
 "nbformat_minor": 2
}
