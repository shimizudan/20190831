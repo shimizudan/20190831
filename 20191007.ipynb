{
 "cells": [
  {
   "cell_type": "markdown",
   "metadata": {},
   "source": [
    "### 双三次内挿\n",
    "\n",
    "$f_1(t)=\\frac{-t^3+2t^2-t}2$，$f_2(t)=\\frac{3t^3-5t^2+2}2$，$f_3(t)=\\frac{-3t^3+4t^2+t}2$，$f_4(t)=\\frac{t^3-t^2}2$\n",
    "\n",
    "$$Z_{u,v}=f(u,v)=\n",
    "\\begin{pmatrix}\n",
    "f_1(v) &f_2(v) &f_3(v) &f_4(v)  \\\\\n",
    "\\end{pmatrix}\n",
    "\\begin{pmatrix}\n",
    "Z_{i-1,j-1} &Z_{i,j-1} &Z_{i+1,j-1} &Z_{i+2,j-1}  \\\\\n",
    "Z_{i-1,j} &Z_{i,j} &Z_{i+1,j} &Z_{i+2,j}  \\\\\n",
    "Z_{i-1,j+1} &Z_{i,j+1} &Z_{i+1,j+1} &Z_{i+2,j+1}  \\\\\n",
    "Z_{i-1,j+2} &Z_{i,j+2} &Z_{i+1,j+2} &Z_{i+2,j+2} \\\\\n",
    "\\end{pmatrix}\n",
    "\\begin{pmatrix}\n",
    "f_1(u) \\\\\n",
    "f_2(u) \\\\\n",
    "f_3(u) \\\\\n",
    "f_4(u)  \\\\\n",
    "\\end{pmatrix}\n",
    "$$\n",
    "\n",
    "今回は\n",
    "\n",
    "$$u=0.6,\\,v=0.4,\\,\\begin{pmatrix}\n",
    "Z_{i-1,j-1} &Z_{i,j-1} &Z_{i+1,j-1} &Z_{i+2,j-1}  \\\\\n",
    "Z_{i-1,j} &Z_{i,j} &Z_{i+1,j} &Z_{i+2,j}  \\\\\n",
    "Z_{i-1,j+1} &Z_{i,j+1} &Z_{i+1,j+1} &Z_{i+2,j+1}  \\\\\n",
    "Z_{i-1,j+2} &Z_{i,j+2} &Z_{i+1,j+2} &Z_{i+2,j+2} \\\\\n",
    "\\end{pmatrix}=\n",
    "\\begin{pmatrix}\n",
    "5&6&7&8\\\\\n",
    "6&7&8&7\\\\\n",
    "8&9&8&10\\\\\n",
    "10&9&10&11\\\\\n",
    "\\end{pmatrix}$$\n",
    "で計算しました。\n"
   ]
  },
  {
   "cell_type": "code",
   "execution_count": 2,
   "metadata": {},
   "outputs": [
    {
     "data": {
      "text/plain": [
       "f4 (generic function with 1 method)"
      ]
     },
     "execution_count": 2,
     "metadata": {},
     "output_type": "execute_result"
    }
   ],
   "source": [
    "function f1(t)\n",
    "    (-t^3+2*t^2-t)/2\n",
    "end\n",
    "function f2(t)\n",
    "    (3*t^3-5*t^2+2)/2\n",
    "end\n",
    "function f3(t)\n",
    "    (-3*t^3+4*t^2+t)/2\n",
    "end\n",
    "function f4(t)\n",
    "    (t^3-t^2)/2\n",
    "end"
   ]
  },
  {
   "cell_type": "code",
   "execution_count": 3,
   "metadata": {},
   "outputs": [
    {
     "data": {
      "text/plain": [
       "f (generic function with 1 method)"
      ]
     },
     "execution_count": 3,
     "metadata": {},
     "output_type": "execute_result"
    }
   ],
   "source": [
    "function f(u,v)\n",
    "    [f1(v) f2(v) f3(v) f4(v)]*[5 6 7 8\n",
    "        6 7 8 7\n",
    "        8 9 8 10\n",
    "        10 9 10 11]*[f1(u)\n",
    "        f2(v)\n",
    "        f3(v)\n",
    "        f4(v)]\n",
    "end"
   ]
  },
  {
   "cell_type": "code",
   "execution_count": 4,
   "metadata": {},
   "outputs": [
    {
     "data": {
      "text/plain": [
       "1-element Array{Float64,1}:\n",
       " 8.12"
      ]
     },
     "execution_count": 4,
     "metadata": {},
     "output_type": "execute_result"
    }
   ],
   "source": [
    "f(0.6,0.4)"
   ]
  }
 ],
 "metadata": {
  "kernelspec": {
   "display_name": "Julia 1.1.1",
   "language": "julia",
   "name": "julia-1.1"
  },
  "language_info": {
   "file_extension": ".jl",
   "mimetype": "application/julia",
   "name": "julia",
   "version": "1.1.1"
  }
 },
 "nbformat": 4,
 "nbformat_minor": 2
}
